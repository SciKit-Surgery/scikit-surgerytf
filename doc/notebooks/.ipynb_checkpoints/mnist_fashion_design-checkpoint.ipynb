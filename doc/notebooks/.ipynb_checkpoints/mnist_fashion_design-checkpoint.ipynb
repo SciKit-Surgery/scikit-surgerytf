{
 "cells": [
  {
   "cell_type": "markdown",
   "metadata": {
    "collapsed": true
   },
   "source": [
    "Fashion MNIST Tutorial - Design Concepts\n",
    "==================================\n",
    "Matt Clarkson, 2019-10-30\n",
    "\n",
    "The Problem\n",
    "---------------\n",
    "\n",
    "Problems with research software include:\n",
    "\n",
    "* Code that only one researcher can run.\n",
    "* Hard coded parameters, with unknown history. i.e. what params have been tested? When? With what version of code?\n",
    "* At the end of a project, the code dies, is not re-used, and subsequent researchers feel compelled to re-implement it, in their own nuanced way, thereby wasting time, and also repeating the same loop. This may not be a huge concern in the era of deep-learning, as a new researcher will likely implement something newer. But if you want to use an algorithm in any other piece of code, the code must be designed for re-use.\n",
    "\n",
    "The Solution\n",
    "---------------\n",
    "\n",
    "A researcher should develop code that:\n",
    "\n",
    "1. is designed for re-use, i.e. a clear, simple interface, so the code can be directly embedded in other third party programs, such as GUI's or other scripts, without cutting-and-pasting, and without being stuck with hard-coded parameters.\n",
    "2. has core functions, run and tested via unit tests.\n",
    "3. has command line entry points so an untrained user can just run it.\n",
    "4. can be used within jupyter notebooks, as this is good for development and supervision meetings.\n",
    "5. can be pip installed by others, and re-used as is, with almost zero effort.\n",
    "\n",
    "\n",
    "The classification code itself is inspired by the standard tensor flow tutorials, such as [this one](https://www.tensorflow.org/tutorials/keras/classification) and [this one](https://www.tensorflow.org/tensorboard/get_started)."
   ]
  },
  {
   "cell_type": "markdown",
   "metadata": {},
   "source": [
    "Prerequisites\n",
    "=============\n",
    "\n",
    "Ensure you have already:\n",
    "\n",
    "* Understood how to use the [PythonTemplate](https://weisslab.cs.ucl.ac.uk/WEISS/SoftwareRepositories/PythonTemplate), and know that we use tox to run pylint, pytest and coverage.\n",
    "* Done [SNAPPYTutorial 01](https://weisslab.cs.ucl.ac.uk/WEISS/SoftwareRepositories/SNAPPY/SNAPPYTutorial01)\n",
    "* Done [SNAPPYTutorial 02](https://weisslab.cs.ucl.ac.uk/WEISS/SoftwareRepositories/SNAPPY/SNAPPYTutorial02)\n"
   ]
  },
  {
   "cell_type": "markdown",
   "metadata": {},
   "source": [
    "The Design\n",
    "===========\n",
    "\n",
    "In this notebook, we will step through the design of our Fashion MNIST example, and explain the design choices."
   ]
  },
  {
   "cell_type": "markdown",
   "metadata": {},
   "source": [
    "Class interface\n",
    "==================\n",
    "\n",
    "First, we can choose either a class-based interface, or a function-based interface. I chose class.  A class is a way of grouping data-members and methods into a coherent concept, and providing encapsulation. So, just like a black box, the user doesn't have to know the internals of how a class works, they can just use the interface. If you chose a function based approach, then related methods are not easily grouped together, so in the long run, code gets more disjoint and messy. So I prefer a class. \n",
    "\n",
    "So, in file ```sksurgerytf/models/fashion.py``` and we basically have:\n",
    "\n",
    "```python\n",
    "class FashionMNIST:\n",
    "    __init__(params)\n",
    "    train()\n",
    "    test(image_to_classify)\n",
    "```\n",
    "\n",
    "where\n",
    "\n",
    "* The constructor is responsible for initialising the network see [this](https://martinfowler.com/articles/injection.html) article by Martin Fowler, and loading/preparing data. Also see [this](http://localhost:8888/notebooks/fashion_design.ipynb) on RAII and books by Scott Meyer to get the idea that once the constructor is complete, you should have a fully usable object. i.e. you must not have an unusable or unready object.\n",
    "* Train method to train the network. This ```train()``` method could be called from within the constructor.\n",
    "* Test method to classify each new image. This would be something that a 3rd party user would call, without knowing what goes on inside the black box.\n",
    "\n",
    "So, by using encapsulation, and a simple class API, we have addressed point 1 of our proposed solution."
   ]
  },
  {
   "cell_type": "markdown",
   "metadata": {},
   "source": [
    "Modules for Functions/Classes and Unit Tests\n",
    "=====================================\n",
    "\n",
    "Under ```sksurgerytf/``` we can put any other sub-modules, classes and functions as necessary. \n",
    "\n",
    "For example:\n",
    "\n",
    "```\n",
    "sksurgerytf/maths/matrix_algebra.py\n",
    "```\n",
    "\n",
    "and its corresponding unit test:\n",
    "\n",
    "```\n",
    "tests/maths/test_matrix_algebra.py\n",
    "```\n",
    "\n",
    "However, that said, its difficult to unit test large networks that take days/weeks to train. Unit tests must be fast, so in all likelihood, we are talking about testing small individual function. Try to break out your functionality into bits you can test without running a full training cycle. \n",
    "\n",
    "So, by separating classes and functions, and having separate unit tests, we have addressed point 2 of our proposed solution.\n",
    "\n"
   ]
  },
  {
   "cell_type": "markdown",
   "metadata": {},
   "source": [
    "Command Line Entry Point\n",
    "========================\n",
    "\n",
    "For bash scripting, or for working with other people, it is useful to have a command line entry point. This repo provides a pattern that you can just copy for each command line entry point.\n",
    "\n",
    "So, the top level python script:\n",
    "```\n",
    "sksurgeryfashion.py\n",
    "```\n",
    "contains:\n",
    "```\n",
    "from sksurgerytf.ui.sksurgery_fashion_command_line import main\n",
    "```\n",
    "which runs a command line parser in\n",
    "```\n",
    "sksurgerytf/ui/sksurgery_fashion_command_line.py\n",
    "```\n",
    "which calls through to the ```fashion.py``` module created above.\n",
    "\n",
    "In this way, a non-trained user can just run the code, like this:\n",
    "```bash\n",
    "# To setup the same virtualenv as tox installed\n",
    "source .tox/py36/bin/activate\n",
    "\n",
    "# Run program, just printing command line args\n",
    "python sksurgeryfashion.py --help\n",
    "```\n",
    "\n",
    "So, we now have the same code called by a command line program, AND runnable via unit tests, AND available as a single class, to can be embedded into any other program that imports the module containing the class. So, we have addressed point 3 of our proposed solution.\n"
   ]
  },
  {
   "cell_type": "markdown",
   "metadata": {},
   "source": [
    "Running via Jupyter Notebook\n",
    "========================\n",
    "\n",
    "The reason we started with a standard python script is because once a network is developed, its more likely to be run in standard python scripts, on a cluster/GPU node, or embedded in a larger program. So the design above supports this. However, Jupyter notebooks are useful for development, and for writing up weekly supervisions."
   ]
  },
  {
   "cell_type": "code",
   "execution_count": 4,
   "metadata": {},
   "outputs": [
    {
     "name": "stdout",
     "output_type": "stream",
     "text": [
      "/Users/mattclarkson/build/scikit-surgerytf/doc/notebooks\n",
      "['/Users/mattclarkson/build/Porcupine/binding/python', '/Users/mattclarkson/build/scikit-surgerytf/.tox/lint/lib/python36.zip', '/Users/mattclarkson/build/scikit-surgerytf/.tox/lint/lib/python3.6', '/Users/mattclarkson/build/scikit-surgerytf/.tox/lint/lib/python3.6/lib-dynload', '/Users/mattclarkson/anaconda3/envs/scikit-surgery/lib/python3.6', '', '/Users/mattclarkson/build/scikit-surgerytf/.tox/lint/lib/python3.6/site-packages', '/Users/mattclarkson/build/scikit-surgerytf/.tox/lint/lib/python3.6/site-packages/IPython/extensions', '/Users/mattclarkson/.ipython', '../../', '../../', '../../']\n",
      "Model: \"sequential\"\n",
      "_________________________________________________________________\n",
      "Layer (type)                 Output Shape              Param #   \n",
      "=================================================================\n",
      "flatten (Flatten)            (None, 784)               0         \n",
      "_________________________________________________________________\n",
      "dense (Dense)                (None, 128)               100480    \n",
      "_________________________________________________________________\n",
      "dense_1 (Dense)              (None, 10)                1290      \n",
      "=================================================================\n",
      "Total params: 101,770\n",
      "Trainable params: 101,770\n",
      "Non-trainable params: 0\n",
      "_________________________________________________________________\n",
      "Train on 60000 samples, validate on 10000 samples\n",
      "Epoch 1/10\n",
      "60000/60000 [==============================] - 7s 112us/sample - loss: 0.5001 - accuracy: 0.8254 - val_loss: 0.4498 - val_accuracy: 0.8325\n",
      "Epoch 2/10\n",
      "60000/60000 [==============================] - 6s 103us/sample - loss: 0.3724 - accuracy: 0.8662 - val_loss: 0.3849 - val_accuracy: 0.8552\n",
      "Epoch 3/10\n",
      "60000/60000 [==============================] - 4s 61us/sample - loss: 0.3357 - accuracy: 0.8773 - val_loss: 0.3672 - val_accuracy: 0.8680- loss: 0.3366 - accura\n",
      "Epoch 4/10\n",
      "60000/60000 [==============================] - 4s 63us/sample - loss: 0.3121 - accuracy: 0.8843 - val_loss: 0.3523 - val_accuracy: 0.8717\n",
      "Epoch 5/10\n",
      "60000/60000 [==============================] - 4s 59us/sample - loss: 0.2933 - accuracy: 0.8923 - val_loss: 0.3476 - val_accuracy: 0.8773\n",
      "Epoch 6/10\n",
      "60000/60000 [==============================] - 3s 56us/sample - loss: 0.2787 - accuracy: 0.8967 - val_loss: 0.3348 - val_accuracy: 0.8786\n",
      "Epoch 7/10\n",
      "60000/60000 [==============================] - 3s 56us/sample - loss: 0.2656 - accuracy: 0.9017 - val_loss: 0.3653 - val_accuracy: 0.8731\n",
      "Epoch 8/10\n",
      "60000/60000 [==============================] - 3s 57us/sample - loss: 0.2558 - accuracy: 0.9054 - val_loss: 0.3351 - val_accuracy: 0.8801\n",
      "Epoch 9/10\n",
      "60000/60000 [==============================] - 3s 56us/sample - loss: 0.2457 - accuracy: 0.9068 - val_loss: 0.3375 - val_accuracy: 0.8816\n",
      "Epoch 10/10\n",
      "60000/60000 [==============================] - 3s 56us/sample - loss: 0.2357 - accuracy: 0.9128 - val_loss: 0.3449 - val_accuracy: 0.8789\n",
      "10000/1 - 0s - loss: 0.2156 - accuracy: 0.8789\n"
     ]
    }
   ],
   "source": [
    "import os\n",
    "import sys\n",
    "print (os.getcwd())\n",
    "print (sys.path)\n",
    "sys.path.append(\"../../\")\n",
    "from sksurgerytf.models import fashion as f\n",
    "fmn = f.FashionMNIST()"
   ]
  },
  {
   "cell_type": "code",
   "execution_count": null,
   "metadata": {},
   "outputs": [],
   "source": []
  }
 ],
 "metadata": {
  "kernelspec": {
   "display_name": "sksurgerytf",
   "language": "python",
   "name": "sksurgerytf"
  },
  "language_info": {
   "codemirror_mode": {
    "name": "ipython",
    "version": 3
   },
   "file_extension": ".py",
   "mimetype": "text/x-python",
   "name": "python",
   "nbconvert_exporter": "python",
   "pygments_lexer": "ipython3",
   "version": "3.6.8"
  }
 },
 "nbformat": 4,
 "nbformat_minor": 1
}

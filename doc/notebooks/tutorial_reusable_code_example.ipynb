{
 "cells": [
  {
   "cell_type": "markdown",
   "metadata": {},
   "source": [
    "# Making Re-Usable Code - An Experiment Writeup Example\n",
    "\n",
    "Matt Clarkson, 2019-11-02\n",
    "\n",
    "Tutorial is hosted on [gitlab](https://weisslab.cs.ucl.ac.uk/WEISS/SoftwareRepositories/SNAPPY/scikit-surgerytf/blob/master/doc/notebooks/tutorial_reusable_code_example.ipynb), and displayed on [readthedocs](https://scikit-surgerytf.readthedocs.io/en/latest/notebooks/tutorial_reusable_code_example.html#). \n",
    "\n",
    "(in fact, if you are reading this on readthedocs, the page itself is generated from that jupyter notebook)\n",
    "\n",
    "# Introduction\n",
    "\n",
    "The aim of this notebook is to serve as an example for weekly supervisions with your research supervisor. The researcher should:\n",
    "\n",
    "* be able to run code\n",
    "* be able to write notes \n",
    "\n",
    "and hence this Jupyter notebook is like the traditional lab book. This tutorial follows on from [this one](https://scikit-surgerytf.readthedocs.io/en/latest/notebooks/tutorial_reusable_code_design.html#), hosted [here on gitlab](https://weisslab.cs.ucl.ac.uk/WEISS/SoftwareRepositories/SNAPPY/scikit-surgerytf/blob/master/doc/notebooks/tutorial_reusable_code_design.ipynb). This notebook demonstrates how you might write up a specific experiment. This need not be verbose. You are not writing a scientific paper. Bullet point lists should be sufficient.\n",
    "\n",
    "\n",
    "# What about versioning?\n",
    "\n",
    "Question: Do you need to maintain new versions of this workbook for each supervision meeting?\n",
    "\n",
    "Answer: No. Just use version control. Commit code before each presentation to your supervisor. The current version just represents the current state-of-play. You can always go back to previous versions."
   ]
  },
  {
   "cell_type": "markdown",
   "metadata": {},
   "source": [
    "# Background\n",
    "\n",
    "* Provide links to the most relevant papers.\n",
    "* Why are you doing this experiment?"
   ]
  },
  {
   "cell_type": "markdown",
   "metadata": {},
   "source": [
    "# Hypothesis\n",
    "\n",
    "* Write down any preconditions, assumptions, caveats.\n",
    "* Write down the hypothesis for a valid experiment."
   ]
  },
  {
   "cell_type": "markdown",
   "metadata": {},
   "source": [
    "# Method\n",
    "\n",
    "* Outline how you will test the hypothesis.\n",
    "* Provide links to data-sources."
   ]
  },
  {
   "cell_type": "markdown",
   "metadata": {},
   "source": [
    "# Experiments\n",
    "\n",
    "* Include anything else you can think of relevance, before diving into code."
   ]
  },
  {
   "cell_type": "code",
   "execution_count": 1,
   "metadata": {},
   "outputs": [],
   "source": [
    "# Jupyter notebook sets the cwd to the folder containing the notebook.\n",
    "# So, you want to add the root of the project to the sys path, so modules load correctly.\n",
    "import sys\n",
    "sys.path.append(\"../../\")"
   ]
  },
  {
   "cell_type": "code",
   "execution_count": 2,
   "metadata": {},
   "outputs": [],
   "source": [
    "# Import other packages and modules\n",
    "from sksurgerytf.models import fashion as f"
   ]
  },
  {
   "cell_type": "code",
   "execution_count": 3,
   "metadata": {},
   "outputs": [
    {
     "name": "stdout",
     "output_type": "stream",
     "text": [
      "Model: \"sequential\"\n",
      "_________________________________________________________________\n",
      "Layer (type)                 Output Shape              Param #   \n",
      "=================================================================\n",
      "flatten (Flatten)            (None, 784)               0         \n",
      "_________________________________________________________________\n",
      "dense (Dense)                (None, 128)               100480    \n",
      "_________________________________________________________________\n",
      "dense_1 (Dense)              (None, 10)                1290      \n",
      "=================================================================\n",
      "Total params: 101,770\n",
      "Trainable params: 101,770\n",
      "Non-trainable params: 0\n",
      "_________________________________________________________________\n",
      "Train on 60000 samples, validate on 10000 samples\n",
      "60000/60000 [==============================] - 4s 66us/sample - loss: 0.5026 - accuracy: 0.8240 - val_loss: 0.4369 - val_accuracy: 0.8451\n",
      "10000/1 - 0s - loss: 0.3477 - accuracy: 0.8451\n"
     ]
    }
   ],
   "source": [
    "# Run something. Here, we just demonstrate that we can run TensorFlow via Keras API.\n",
    "# More specifically, we create an instance of an object in this project.\n",
    "fmn = f.FashionMNIST()"
   ]
  },
  {
   "cell_type": "markdown",
   "metadata": {},
   "source": [
    "# Results\n",
    "\n",
    "Here's some ideas of what to present, and examples of how to present them.\n",
    "\n",
    "## Graphs of Loss\n",
    "\n",
    "The class used above writes tensorboard log files. That might be easier to analyse.\n",
    "\n",
    "\n",
    "## Hyperparameter tuning\n",
    "I would make sure my class object could be created with all the right parameters in the constructor. Then I'd write a script, and run it on cluster machines, writing results to log files. Then i'd collect up the log files, extract the results, save some simple .csv table and import it here, using numpy or pandas. So, this workbook would just contain the results, and the analysis of those results. I wouldn't do much hyperparameter tuning from within a notebook.\n"
   ]
  },
  {
   "cell_type": "markdown",
   "metadata": {},
   "source": [
    "\n",
    "## Example Images\n",
    "\n",
    "As per Andrew Ng's suggestions, pick 100 falsely classified images, display an image thumbnail, along with incorrect result, and the correct result. In this case, we just pick the first 5."
   ]
  },
  {
   "cell_type": "code",
   "execution_count": 4,
   "metadata": {},
   "outputs": [],
   "source": [
    "indexes, images, predicted, labels = fmn.extract_failures(5)"
   ]
  },
  {
   "cell_type": "code",
   "execution_count": 5,
   "metadata": {},
   "outputs": [
    {
     "name": "stdout",
     "output_type": "stream",
     "text": [
      "[12, 21, 23, 25, 29]\n"
     ]
    }
   ],
   "source": [
    "print(indexes)"
   ]
  },
  {
   "cell_type": "code",
   "execution_count": 6,
   "metadata": {},
   "outputs": [
    {
     "name": "stdout",
     "output_type": "stream",
     "text": [
      "[5, 7, 7, 2, 6]\n"
     ]
    }
   ],
   "source": [
    "print(predicted)"
   ]
  },
  {
   "cell_type": "code",
   "execution_count": 7,
   "metadata": {},
   "outputs": [
    {
     "name": "stdout",
     "output_type": "stream",
     "text": [
      "[7, 5, 9, 4, 3]\n"
     ]
    }
   ],
   "source": [
    "print(labels)"
   ]
  },
  {
   "cell_type": "code",
   "execution_count": 23,
   "metadata": {},
   "outputs": [
    {
     "data": {
      "image/png": "[encoded data removed]",
      "text/plain": [
       "<Figure size 1440x10800 with 5 Axes>"
      ]
     },
     "metadata": {
      "needs_background": "light"
     },
     "output_type": "display_data"
    }
   ],
   "source": [
    "%matplotlib inline\n",
    "\n",
    "import matplotlib.pyplot as plt\n",
    "\n",
    "number_of_images = len(indexes)\n",
    "\n",
    "fig = plt.figure(figsize=(20, 150))\n",
    "\n",
    "for counter in range(number_of_images):\n",
    "    a = fig.add_subplot(1, number_of_images, counter+1)\n",
    "    imgplot = plt.imshow(images[counter])      \n",
    "    a.set_title(\"Classified as:\" + str(predicted[counter]) + \", instead of:\" + str(labels[counter]))\n"
   ]
  },
  {
   "cell_type": "markdown",
   "metadata": {},
   "source": [
    "# Conclusions\n",
    "\n",
    "The aim of the notebook was just to show that brief notes, of code, mixed with text can be an effective way to maintain a lab-book. Furthermore, it can simply by checked in with the current state of your code. \n",
    "\n",
    "Each example network would probably benefit from different ways of plotting results."
   ]
  },
  {
   "cell_type": "code",
   "execution_count": null,
   "metadata": {},
   "outputs": [],
   "source": []
  }
 ],
 "metadata": {
  "kernelspec": {
   "display_name": "sksurgerytf",
   "language": "python",
   "name": "sksurgerytf"
  },
  "language_info": {
   "codemirror_mode": {
    "name": "ipython",
    "version": 3
   },
   "file_extension": ".py",
   "mimetype": "text/x-python",
   "name": "python",
   "nbconvert_exporter": "python",
   "pygments_lexer": "ipython3",
   "version": "3.6.8"
  }
 },
 "nbformat": 4,
 "nbformat_minor": 2
}

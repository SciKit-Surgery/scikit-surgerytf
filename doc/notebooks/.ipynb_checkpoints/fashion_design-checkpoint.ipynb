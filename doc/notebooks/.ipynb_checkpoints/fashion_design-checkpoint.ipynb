{
 "cells": [
  {
   "cell_type": "markdown",
   "metadata": {
    "collapsed": true
   },
   "source": [
    "Fashion MNIST Classification\n",
    "=======================\n",
    "Matt Clarkson, 2019-10-30\n",
    "\n",
    "The Problem\n",
    "---------------\n",
    "\n",
    "Problems with research software include:\n",
    "\n",
    "* Code that only one researcher can run.\n",
    "* Hard coded parameters, with unknown history. i.e. what params have been tested? When? With what version of code?\n",
    "* At the end of a project, the code dies, is not re-used, and subsequent researchers feel compelled to re-implement it, in their own nuanced way, thereby wasting time, and also repeating the same loop. This may not be a huge concern in the era of deep-learning, as a new student/researcher will likely implement something newer. But if you want to use an algorithm in any other piece of code, the code must be designed for re-use.\n",
    "\n",
    "The Solution\n",
    "---------------\n",
    "\n",
    "This notebook is written as a learning and demonstration exercise. The aim is to develop code that:\n",
    "\n",
    "* has core functions, run and tested via unit tests.\n",
    "* has application level code, run via the command line.\n",
    "* can be used within jupyter notebooks, as this is good for development and supervision meetings.\n",
    "* can be pip installed by others, and re-used as it, with almost zero effort.\n",
    "* is designed for re-use, i.e. a clear, simple interface, so the code can be directly embedded in other third party programs, such as GUI's or other scripts, without cutting-and-pasting, and without being stuck with hard-coded parameters.\n",
    "\n",
    "The classification itself is inspired by the standard tensor flow tutorials, such as [this one](https://www.tensorflow.org/tutorials/keras/classification) and [this one](https://www.tensorflow.org/tensorboard/get_started)."
   ]
  },
  {
   "cell_type": "markdown",
   "metadata": {},
   "source": [
    "The Process\n",
    "===========\n",
    "\n",
    "In this notebook, we will step through the design of our Fashion MNIST example, and explain the design choices."
   ]
  },
  {
   "cell_type": "markdown",
   "metadata": {},
   "source": [
    "1. Class interface\n",
    "==================\n",
    "\n"
   ]
  }
 ],
 "metadata": {
  "kernelspec": {
   "display_name": "Python 3",
   "language": "python",
   "name": "python3"
  },
  "language_info": {
   "codemirror_mode": {
    "name": "ipython",
    "version": 3
   },
   "file_extension": ".py",
   "mimetype": "text/x-python",
   "name": "python",
   "nbconvert_exporter": "python",
   "pygments_lexer": "ipython3",
   "version": "3.7.0"
  }
 },
 "nbformat": 4,
 "nbformat_minor": 1
}

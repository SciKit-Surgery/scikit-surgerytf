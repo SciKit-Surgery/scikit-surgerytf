{
 "cells": [
  {
   "cell_type": "markdown",
   "metadata": {
    "collapsed": true
   },
   "source": [
    "# Making Re-Usable Code - Some Design Concepts\n",
    "\n",
    "Matt Clarkson, 2019-10-30\n",
    "\n",
    "## The Problem\n",
    "\n",
    "Problems with research software include:\n",
    "\n",
    "* Code that only one researcher can run.\n",
    "* At the end of a project, the code dies, is not re-used, and subsequent researchers feel compelled to re-implement it, in their own nuanced way, thereby wasting time, and also repeating the same loop. This may not be a huge concern in the era of deep-learning, as a new researcher will likely implement something newer and better. But if you want to use an algorithm in any other piece of code, the code must be designed for re-use.\n",
    "* Hard coded parameters, with unknown history. i.e. what params have been tested? When? With what version of code?\n",
    "\n",
    "## The Solution\n",
    "\n",
    "A researcher should develop code that:\n",
    "\n",
    "1. is designed for re-use, i.e. a clear, simple interface, so the code can be directly embedded in other third party programs, such as GUI's or other scripts, without cutting-and-pasting.\n",
    "2. has core functions, run and tested via unit tests.\n",
    "3. has command line entry points so an untrained user can just run it.\n",
    "4. can be used within jupyter notebooks, as this is good for development and supervision meetings.\n",
    "5. can be pip installed by others, and re-used as is, with almost zero effort.\n",
    "6. has no hard-coded parameters.\n",
    "\n",
    "In this tutorial, we implement a simple classifier in TensorFlow, to demonstrate the above steps.\n",
    "The classification code itself is inspired by the standard Fashion MNIST tensor flow tutorials, such as [this one](https://www.tensorflow.org/tutorials/keras/classification) and [this one](https://www.tensorflow.org/tensorboard/get_started). The classifer per se, is not the point of the tutorial. The point is to demonstrate how to make code that can be widely re-used."
   ]
  },
  {
   "cell_type": "markdown",
   "metadata": {},
   "source": [
    "## Pre-requisites\n",
    "\n",
    "Ensure you have already:\n",
    "\n",
    "* Understood how to use the [PythonTemplate](https://weisslab.cs.ucl.ac.uk/WEISS/SoftwareRepositories/PythonTemplate), and know that we use tox to run ```pylint```, ```pytest``` and ```coverage```. \n",
    "* Done [SNAPPYTutorial 01](https://weisslab.cs.ucl.ac.uk/WEISS/SoftwareRepositories/SNAPPY/SNAPPYTutorial01)\n",
    "* Done [SNAPPYTutorial 02](https://weisslab.cs.ucl.ac.uk/WEISS/SoftwareRepositories/SNAPPY/SNAPPYTutorial02)\n",
    "\n",
    "Important, as the same PythonTemplate and hence ```tox``` and ```virtualenv``` layout is used for this project.\n"
   ]
  },
  {
   "cell_type": "markdown",
   "metadata": {},
   "source": [
    "## The Design\n",
    "\n",
    "In this notebook, we will step through the design of our Fashion MNIST example, and explain the design choices."
   ]
  },
  {
   "cell_type": "markdown",
   "metadata": {},
   "source": [
    "### Class interface\n",
    "\n",
    "First, we can choose either a class-based interface, or a function-based interface. I chose class.  A class is a way of grouping data-members and methods into a coherent concept, and providing encapsulation. So, just like a black box, the user doesn't have to know the internals of how a class works, they can just use the interface. If you chose a function based approach, then related methods are not easily grouped together, and its not obvious how separate methods are related, or in which order the should or must be called. So in the long run, funtion-based code, with lots of functions gets more disjoint and messy. So I prefer a class. \n",
    "\n",
    "So, in file ```sksurgerytf/models/fashion.py``` we basically have the following, written as pseudo-code:\n",
    "\n",
    "```python\n",
    "class FashionMNIST:\n",
    "    __init__(params)\n",
    "    train()\n",
    "    test(image_to_classify)\n",
    "```\n",
    "\n",
    "where\n",
    "\n",
    "* The constructor is responsible for initialising the network. See [this](https://martinfowler.com/articles/injection.html) article by Martin Fowler, and how the class is loading/preparing data. Also see [this](http://localhost:8888/notebooks/fashion_design.ipynb) on RAII and books by Scott Meyer to get the idea that once the constructor is complete, you should have a fully usable object. i.e. you must never allow an unusable or unready object to exist.\n",
    "* ```train()``` method to train the network. In this example, the ```train()``` method is called from within the constructor. You could call it separately.\n",
    "* ```test()``` method to classify each new image. This would be something that a 3rd party user would call, without knowing what goes on inside the black box.\n",
    "\n",
    "So, by using encapsulation, and a simple class API, we have addressed point 1 of our proposed solution."
   ]
  },
  {
   "cell_type": "markdown",
   "metadata": {},
   "source": [
    "### Modules for Functions/Classes and Unit Tests\n",
    "\n",
    "Under ```sksurgerytf/``` we can put any other sub-modules, classes and functions as necessary. \n",
    "\n",
    "For example:\n",
    "\n",
    "```shell\n",
    "sksurgerytf/maths/matrix_algebra.py\n",
    "```\n",
    "\n",
    "would have its corresponding unit test:\n",
    "\n",
    "```shell\n",
    "tests/maths/test_matrix_algebra.py\n",
    "```\n",
    "\n",
    "However, that said, its difficult to unit test large networks that take days/weeks to train. Unit tests must be fast, so in all likelihood, we are talking about testing small individual functions. Try to break out your functionality into bits you can test without running a full training cycle, i.e. test with dummy data.\n",
    "\n",
    "So, by separating classes and functions, and having separate unit tests, we will address point 2 of our proposed solution.\n",
    "\n"
   ]
  },
  {
   "cell_type": "markdown",
   "metadata": {},
   "source": [
    "### Command Line Entry Point\n",
    "\n",
    "For bash scripting, or for working with other people, it is useful to have a command line entry point. This repo provides a pattern that you can just copy for each command line entry point.\n",
    "\n",
    "So, the top level python script:\n",
    "```\n",
    "sksurgeryfashion.py\n",
    "```\n",
    "contains:\n",
    "```\n",
    "from sksurgerytf.ui.sksurgery_fashion_command_line import main\n",
    "```\n",
    "which runs a command line parser in\n",
    "```\n",
    "sksurgerytf/ui/sksurgery_fashion_command_line.py\n",
    "```\n",
    "which calls through to the ```fashion.py``` module created above.\n",
    "\n",
    "In this way, a non-trained user can just run the code, like this:\n",
    "\n",
    "  ```shell\n",
    "  # To setup the same virtualenv as tox installed\n",
    "  source .tox/py36/bin/activate\n",
    "\n",
    "  # Run program, just printing command line args\n",
    "  python sksurgeryfashion.py --help\n",
    "  ```\n",
    "\n",
    "So, we now have the same code called by unit tests (point 2) AND a command line program (point 3), so, we have addressed point 3 of our proposed solution.\n"
   ]
  },
  {
   "cell_type": "markdown",
   "metadata": {},
   "source": [
    "### Running via Jupyter Notebook\n",
    "\n",
    "Thanks to [this blog post](https://anbasile.github.io/programming/2017/06/25/jupyter-venv/) from Angelo Basile.\n",
    "\n",
    "The reason we started with a standard python script is because once a network is developed, its more likely to be run in standard python scripts, on a cluster/GPU node, or embedded in a larger program using the Python ```import``` mechanism. So the design above supports this. However, Jupyter notebooks are useful for development, and for writing up weekly supervisions. Here is an example of how to run our ```FashionMNIST``` class inside a jupyter notebook.\n",
    "\n",
    "### NOTE:\n",
    "\n",
    "This relies on 3 things:\n",
    "\n",
    "* In the top level tox.ini, see ```commands_pre=ipython kernel install --user --name=sksurgerytf``` which creates a python kernel inside the tox environment.\n",
    "* You must ensure you start jupyter within the tox environment.\n",
    "\n",
    "  ```shell\n",
    "    # If not already done.\n",
    "    source .tox/py36/bin/activate\n",
    "\n",
    "    # Then launch jupyter\n",
    "    jupyter notebook\n",
    "  ```\n",
    "  \n",
    "* Then when you navigate to and run this notebook, select the ```sksurgerytf``` kernel from the kernel menu item, in the web browser."
   ]
  },
  {
   "cell_type": "code",
   "execution_count": 1,
   "metadata": {},
   "outputs": [
    {
     "name": "stdout",
     "output_type": "stream",
     "text": [
      "Model: \"sequential\"\n",
      "_________________________________________________________________\n",
      "Layer (type)                 Output Shape              Param #   \n",
      "=================================================================\n",
      "flatten (Flatten)            (None, 784)               0         \n",
      "_________________________________________________________________\n",
      "dense (Dense)                (None, 128)               100480    \n",
      "_________________________________________________________________\n",
      "dense_1 (Dense)              (None, 10)                1290      \n",
      "=================================================================\n",
      "Total params: 101,770\n",
      "Trainable params: 101,770\n",
      "Non-trainable params: 0\n",
      "_________________________________________________________________\n",
      "Train on 60000 samples, validate on 10000 samples\n",
      "Epoch 1/10\n",
      "60000/60000 [==============================] - 10s 165us/sample - loss: 0.4965 - accuracy: 0.8262 - val_loss: 0.4264 - val_accuracy: 0.8465\n",
      "Epoch 2/10\n",
      "60000/60000 [==============================] - 10s 159us/sample - loss: 0.3754 - accuracy: 0.8639 - val_loss: 0.4122 - val_accuracy: 0.8508\n",
      "Epoch 3/10\n",
      "60000/60000 [==============================] - 9s 142us/sample - loss: 0.3377 - accuracy: 0.8767 - val_loss: 0.3646 - val_accuracy: 0.8675\n",
      "Epoch 4/10\n",
      "60000/60000 [==============================] - 10s 161us/sample - loss: 0.3123 - accuracy: 0.8861 - val_loss: 0.3611 - val_accuracy: 0.8691\n",
      "Epoch 5/10\n",
      "60000/60000 [==============================] - 8s 141us/sample - loss: 0.2949 - accuracy: 0.8913 - val_loss: 0.3774 - val_accuracy: 0.8599\n",
      "Epoch 6/10\n",
      "60000/60000 [==============================] - 9s 150us/sample - loss: 0.2795 - accuracy: 0.8965 - val_loss: 0.3431 - val_accuracy: 0.8741\n",
      "Epoch 7/10\n",
      "60000/60000 [==============================] - 9s 149us/sample - loss: 0.2695 - accuracy: 0.8997 - val_loss: 0.3470 - val_accuracy: 0.8771\n",
      "Epoch 8/10\n",
      "60000/60000 [==============================] - 9s 148us/sample - loss: 0.2559 - accuracy: 0.9046 - val_loss: 0.3866 - val_accuracy: 0.8595\n",
      "Epoch 9/10\n",
      "60000/60000 [==============================] - 8s 139us/sample - loss: 0.2488 - accuracy: 0.9066 - val_loss: 0.3514 - val_accuracy: 0.8772\n",
      "Epoch 10/10\n",
      "60000/60000 [==============================] - 9s 152us/sample - loss: 0.2391 - accuracy: 0.9114 - val_loss: 0.3765 - val_accuracy: 0.8705\n",
      "10000/1 - 1s - loss: 0.3059 - accuracy: 0.8705\n"
     ]
    }
   ],
   "source": [
    "# Jupyter notebook sets the cwd to the folder containing the notebook.\n",
    "# So, you want to add the root of the project to the sys path, so modules load correctly.\n",
    "import sys\n",
    "sys.path.append(\"../../\")\n",
    "\n",
    "# This will load the module, create the network, and run a simple training.\n",
    "# If this completes without errors, we have a valid way of running notebooks.\n",
    "from sksurgerytf.models import fashion as f\n",
    "fmn = f.FashionMNIST()\n"
   ]
  },
  {
   "cell_type": "markdown",
   "metadata": {},
   "source": [
    "So, the ability to run the same class in a jupyter notebook, accomplishes point 4."
   ]
  },
  {
   "cell_type": "markdown",
   "metadata": {},
   "source": [
    "### Make Code Pip-Installable\n",
    "\n",
    "The top level ```setup.py``` is responsible for installing a python package/module in a users environment according to normal python conventions. Normally, to distribute code, you would do:\n",
    "\n",
    "* Install your code on PyPi.org. See [this](https://weisslab.cs.ucl.ac.uk/WEISS/SoftwareRepositories/SNAPPY/snappytutorial02) tutorial. \n",
    "* The 3rd party user then just does ```pip install``` to install it\n",
    "\n",
    "Alternatively, the 3rd party user would:\n",
    "\n",
    "* git clone your repository\n",
    "* Does ```pip install .``` in the top-level folder.\n",
    "\n",
    "Both of these methods need ```setup.py```\n",
    "\n",
    "So, you should edit setup.py, paying particular attention to:\n",
    "\n",
    "* Setting your name and email address\n",
    "* Ensuring ```install_requires``` matches ```requirements.txt``` for all 3rd party dependencies, including all the version numbers. Unfortunately, we don't have a nice way of avoiding this duplication yet.\n",
    "\n",
    "However, we also want our command line apps to be pip-installed to. The section:\n",
    "\n",
    "```\n",
    "        'console_scripts': [\n",
    "            'sksurgeryfashion=sksurgerytf.ui.sksurgery_fashion_command_line:main',\n",
    "        ],\n",
    "```\n",
    "creates a new command line application called ```sksurgeryfashion``` that runs the same main function as above. This command line application does not have a ```.py``` extension, and does not need running via the python interpretter. To the end-user it looks like any other shell command (e.g. native unix/bash/windows commands).\n",
    "\n",
    "So, for each of your command line apps, you should create an entry under ```console_scripts``` that will allow a 3rd party user to run your code, without knowing how any of it works. \n",
    "\n",
    "This then accomplishes point 5 on the above list."
   ]
  },
  {
   "cell_type": "markdown",
   "metadata": {},
   "source": [
    "## A Note On Object Re-Use\n",
    "\n",
    "Consider the two code fragments, written as pseudo-code:\n",
    "\n",
    "```python\n",
    "class FashionMNIST()\n",
    "    __init__()\n",
    "    set_param1(param1)\n",
    "    set_param2(param2)\n",
    "    set_param3(param3)\n",
    "    train()\n",
    "    test()\n",
    "```\n",
    "\n",
    "which only has constructor arguments, and no setters. Compare this with:\n",
    "\n",
    "```python\n",
    "class FashionMNIST()\n",
    "    __init__(param1, param2, param3)\n",
    "    train()\n",
    "    test()\n",
    "```\n",
    "\n",
    "which is best?\n",
    "\n",
    "Arguably it depends what you are trying to achieve. However, it becomes interesting if you want to re-use an object. In the first example, its not obvious if calling the setters is mandatory, and in which order they should be called. Also, if you ```train()``` once, then call a setter and ```train()``` again, what should the expected behaviour be? The object is being re-used, so does the training re-start from scratch or where it left off? Does the new parameter value take effect for the second training, or does setting a parameter value cause the training to restart? All of these points can of course be clarified with effective documentation for each method. \n",
    "\n",
    "However, the point about the second example is that its more obvious to the 3rd party that the object is designed not to have the parameter values set once the object is constructed. In other languages such as ```C++``` this can be enforced via ```public, protected, private``` mechanisms. The fact that Python doesn't protect variables shouldn't dissuade you from the general idea that it is best to define the code to automatically indicate to the end user, the way in which a class is meant to, or designed to be used. \n",
    "\n",
    "So, I would use these two types of class design to indicate what my intention was, in terms of re-use. \n",
    "\n",
    "In general, I prefer to use constructor arguments, and no setters. The user should at least get the idea that to test new values, and new settings of hyperparameters for example, they are then required to make a new object, which makes it fairly obvious that the training is then starting from scratch. So, try to make the class design informative of how the class should/must be used."
   ]
  },
  {
   "cell_type": "markdown",
   "metadata": {},
   "source": [
    "### Hard-Coded Parameters\n",
    "\n",
    "General advice would be to avoid hard-coded parameters. However, a researcher may have spent a lot of time optimising a given parameter, and specifically does not want anyone else to change this value. Or, a parameter value may not have been extensively tested or validated, so what should a researcher do then? There is a trade off between providing 3rd party users with extra parameters to tweak and hence extra flexibility, and the downside of 3rd party users complaining \"your code doesn't work with parameter X set to value Y, why not?\"\n",
    "\n",
    "So the general advice might be better phrased as: \"Provide tunable parameters, where you think there is some benefit to doing so, and you have reasonable expectation that it would be useful to 3rd parties\".\n",
    "\n",
    "Then, following from the conversation above, you just have to decide if they should be constructor arguments, and no setter methods provided, or a class with default constructor, and setter methods."
   ]
  },
  {
   "cell_type": "markdown",
   "metadata": {},
   "source": [
    "### Logging\n",
    "\n",
    "And finally, make sure you log as much stuff as reasonable."
   ]
  }
 ],
 "metadata": {
  "kernelspec": {
   "display_name": "sksurgerytf",
   "language": "python",
   "name": "sksurgerytf"
  },
  "language_info": {
   "codemirror_mode": {
    "name": "ipython",
    "version": 3
   },
   "file_extension": ".py",
   "mimetype": "text/x-python",
   "name": "python",
   "nbconvert_exporter": "python",
   "pygments_lexer": "ipython3",
   "version": "3.6.8"
  }
 },
 "nbformat": 4,
 "nbformat_minor": 1
}
